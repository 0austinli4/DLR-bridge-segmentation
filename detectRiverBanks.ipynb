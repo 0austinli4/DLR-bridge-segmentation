{
 "cells": [
  {
   "cell_type": "code",
   "execution_count": 1,
   "metadata": {},
   "outputs": [
    {
     "name": "stdout",
     "output_type": "stream",
     "text": [
      "Jupyter environment detected. Enabling Open3D WebVisualizer.\n",
      "[Open3D INFO] WebRTC GUI backend enabled.\n",
      "[Open3D INFO] WebRTCWindowSystem: HTTP handshake server disabled.\n"
     ]
    }
   ],
   "source": [
    "import numpy as np\n",
    "import open3d as o3d\n",
    "import math\n",
    "import itertools\n",
    "import copy\n",
    "import matplotlib\n",
    "import matplotlib.pyplot as plt\n",
    "import matplotlib.cm as cm\n",
    "from scipy.spatial import distance\n",
    "import o3dfunc as o3dmethods\n",
    "import multibridgefunc as bridgemethods\n",
    "import riverbank as riverbank"
   ]
  },
  {
   "cell_type": "code",
   "execution_count": 2,
   "metadata": {},
   "outputs": [],
   "source": [
    "# # Read in and visualize point cloud\n",
    "# pcd = o3d.io.read_point_cloud('slam_bridge_examples/bridge_monday_5_1_dense.pcd')\n",
    "# gnss = o3d.io.read_point_cloud('slam_bridge_gnss/bridge_monday_5_1.xyz')"
   ]
  },
  {
   "cell_type": "code",
   "execution_count": 3,
   "metadata": {},
   "outputs": [],
   "source": [
    "# Stretch the z axis of the gnss point cloud\n",
    "\n",
    "\n",
    "# Stretch the y axis of the gnss point cloud\n",
    "def lift_y(pcd, length):\n",
    "    array = np.asarray(pcd.points)\n",
    "    total = array.copy()\n",
    "    copy_up = array.copy()\n",
    "\n",
    "    for i in range(length):\n",
    "        copy_up[:, 1] += 1\n",
    "        total = np.vstack((total, copy_up))\n",
    "    \n",
    "    vec = o3d.utility.Vector3dVector(total)\n",
    "    final = o3d.geometry.PointCloud(vec)\n",
    "    final.paint_uniform_color([0, 1, 0])\n",
    "    return final"
   ]
  },
  {
   "cell_type": "code",
   "execution_count": null,
   "metadata": {},
   "outputs": [],
   "source": [
    "pcd_sel = o3d.io.read_point_cloud('pcd_sel.pcd')\n",
    "gnss = o3d.io.read_point_cloud('gnss.pcd')\n",
    "river = riverbank.detect_riverbank(pcd_sel, gnss)\n",
    "o3d.visualization.draw_geometries([river])"
   ]
  }
 ],
 "metadata": {
  "kernelspec": {
   "display_name": "Python 3",
   "language": "python",
   "name": "python3"
  },
  "language_info": {
   "codemirror_mode": {
    "name": "ipython",
    "version": 3
   },
   "file_extension": ".py",
   "mimetype": "text/x-python",
   "name": "python",
   "nbconvert_exporter": "python",
   "pygments_lexer": "ipython3",
   "version": "3.8.0"
  },
  "orig_nbformat": 4
 },
 "nbformat": 4,
 "nbformat_minor": 2
}
